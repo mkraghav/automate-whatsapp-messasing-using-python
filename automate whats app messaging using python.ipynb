{
 "cells": [
  {
   "cell_type": "code",
   "execution_count": null,
   "metadata": {},
   "outputs": [],
   "source": [
    "from selenium import webdriver\n",
    "\n",
    "driver = webdriver.Chrome()\n",
    "driver.get('https://web.whatsapp.com/')\n",
    "\n",
    "name = input('Enter the name of user or group : ')\n",
    "msg = input('Enter your message : ')\n",
    "count = int(input('Enter the count : '))\n",
    "\n",
    "input('Enter anything after scanning QR code')\n",
    "\n",
    "user = driver.find_element_by_xpath('//span[@title = \"{}\"]'.format(name))\n",
    "user.click()\n",
    "\n",
    "msg_box = driver.find_element_by_class_name('_2S1VP')\n",
    "\n",
    "for i in range(count):\n",
    "    msg_box.send_keys(msg)\n",
    "    button = driver.find_element_by_class_name('_35EW6')\n",
    "    button.click()"
   ]
  },
  {
   "cell_type": "code",
   "execution_count": null,
   "metadata": {},
   "outputs": [],
   "source": []
  },
  {
   "cell_type": "code",
   "execution_count": null,
   "metadata": {},
   "outputs": [],
   "source": []
  }
 ],
 "metadata": {
  "kernelspec": {
   "display_name": "Python 3",
   "language": "python",
   "name": "python3"
  },
  "language_info": {
   "codemirror_mode": {
    "name": "ipython",
    "version": 3
   },
   "file_extension": ".py",
   "mimetype": "text/x-python",
   "name": "python",
   "nbconvert_exporter": "python",
   "pygments_lexer": "ipython3",
   "version": "3.5.6"
  }
 },
 "nbformat": 4,
 "nbformat_minor": 2
}
